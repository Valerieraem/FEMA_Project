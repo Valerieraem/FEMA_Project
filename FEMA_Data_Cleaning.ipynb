{
 "cells": [
  {
   "cell_type": "code",
   "execution_count": 3,
   "id": "2978b600-bdc3-41ed-a1aa-90bffeff977d",
   "metadata": {},
   "outputs": [],
   "source": [
    "import pandas as pd"
   ]
  },
  {
   "cell_type": "code",
   "execution_count": 4,
   "id": "3081aea2-85a5-4a13-ac98-c6b76248d5cd",
   "metadata": {},
   "outputs": [],
   "source": [
    "dfFEMA = pd.read_csv('dds_output.csv')"
   ]
  },
  {
   "cell_type": "code",
   "execution_count": 5,
   "id": "d3c2a11c-3e4a-44b1-89fe-c2fc97ad90aa",
   "metadata": {},
   "outputs": [
    {
     "name": "stdout",
     "output_type": "stream",
     "text": [
      "<class 'pandas.core.frame.DataFrame'>\n",
      "RangeIndex: 64955 entries, 0 to 64954\n",
      "Data columns (total 25 columns):\n",
      " #   Column                    Non-Null Count  Dtype \n",
      "---  ------                    --------------  ----- \n",
      " 0   femaDeclarationString     64955 non-null  object\n",
      " 1   disasterNumber            64955 non-null  int64 \n",
      " 2   state                     64955 non-null  object\n",
      " 3   declarationType           64955 non-null  object\n",
      " 4   declarationDate           64955 non-null  object\n",
      " 5   fyDeclared                64955 non-null  int64 \n",
      " 6   incidentType              64955 non-null  object\n",
      " 7   declarationTitle          64955 non-null  object\n",
      " 8   ihProgramDeclared         64955 non-null  int64 \n",
      " 9   iaProgramDeclared         64955 non-null  int64 \n",
      " 10  paProgramDeclared         64955 non-null  int64 \n",
      " 11  hmProgramDeclared         64955 non-null  int64 \n",
      " 12  incidentBeginDate         64955 non-null  object\n",
      " 13  incidentEndDate           64422 non-null  object\n",
      " 14  disasterCloseoutDate      48943 non-null  object\n",
      " 15  tribalRequest             64955 non-null  int64 \n",
      " 16  fipsStateCode             64955 non-null  int64 \n",
      " 17  fipsCountyCode            64955 non-null  int64 \n",
      " 18  placeCode                 64955 non-null  int64 \n",
      " 19  designatedArea            64955 non-null  object\n",
      " 20  declarationRequestNumber  64955 non-null  int64 \n",
      " 21  lastIAFilingDate          17996 non-null  object\n",
      " 22  lastRefresh               64955 non-null  object\n",
      " 23  hash                      64955 non-null  object\n",
      " 24  id                        64955 non-null  object\n",
      "dtypes: int64(11), object(14)\n",
      "memory usage: 12.4+ MB\n"
     ]
    }
   ],
   "source": [
    "dfFEMA.info()"
   ]
  }
 ],
 "metadata": {
  "kernelspec": {
   "display_name": "Python 3 (ipykernel)",
   "language": "python",
   "name": "python3"
  },
  "language_info": {
   "codemirror_mode": {
    "name": "ipython",
    "version": 3
   },
   "file_extension": ".py",
   "mimetype": "text/x-python",
   "name": "python",
   "nbconvert_exporter": "python",
   "pygments_lexer": "ipython3",
   "version": "3.12.0"
  }
 },
 "nbformat": 4,
 "nbformat_minor": 5
}
